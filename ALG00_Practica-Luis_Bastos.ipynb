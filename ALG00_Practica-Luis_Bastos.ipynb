{
 "cells": [
  {
   "cell_type": "markdown",
   "metadata": {},
   "source": [
    "# Práctica"
   ]
  },
  {
   "cell_type": "markdown",
   "metadata": {},
   "source": [
    "## 1. La conjetura de Collatz\n",
    "\n",
    "<img src=\"Images/comic_collatz.png\" style=\"width: 400px;\"/>\n",
    "\n",
    "Empiezas con un número entero natural cualquiera (1, 2, 3, 4, 5...).  \n",
    "Si el número es par, lo divides por 2  \n",
    "Si es impar, lo multiplicas por 3 y le sumas 1  \n",
    "\n",
    "Escribir un procedimiento en Python que implemente el mecanismo de la conjetura de Collatz para cualquier número entero positivo."
   ]
  },
  {
   "cell_type": "code",
   "execution_count": 160,
   "metadata": {},
   "outputs": [
    {
     "name": "stdout",
     "output_type": "stream",
     "text": [
      "22,11,34,17,52,26,13,40,20,10,5,16,8,4,2,1\n"
     ]
    }
   ],
   "source": [
    "def IntValue(n):\n",
    "    strn=str(n)\n",
    "    if strn.isdigit():\n",
    "        return True\n",
    "    else:\n",
    "        print(\"Debe introducir un numero entero\")\n",
    "        return False\n",
    "        \n",
    "\n",
    "def collatz(numero):\n",
    "    \n",
    "    if IntValue(numero) == True:\n",
    "        while numero != 1:\n",
    "            if numero % 2 == 0:\n",
    "                print(\"%d,\" % (numero), end = \"\")\n",
    "                numero = numero / 2\n",
    "            else:\n",
    "                print(\"%d,\" % (numero), end = \"\")\n",
    "                numero = (numero * 3) + 1\n",
    "\n",
    "            if numero == 1:\n",
    "                print(\"1\")\n",
    "collatz(22)"
   ]
  },
  {
   "cell_type": "markdown",
   "metadata": {},
   "source": [
    "## 2. Suma y producto escalar combinados\n",
    "\n",
    "Usando los procedimientos add y mult_vector_escalar definidos en el notebook **ALG05_Vectores**, calcular:   \n",
    "{$\\alpha$[1,2]+[3,4] : $\\alpha$$\\in$$\\mathbb{R}$, 0$\\leq$$\\alpha$$\\leq$1, con una precision de dos decimales (para la multiplicación)}"
   ]
  },
  {
   "cell_type": "code",
   "execution_count": null,
   "metadata": {},
   "outputs": [],
   "source": [
    "##Lo vemos en la clase del dia 2. Conjunto de las siguientes soluciones con un alfa entre 0 y 1 con dos decimales."
   ]
  },
  {
   "cell_type": "code",
   "execution_count": 6,
   "metadata": {},
   "outputs": [],
   "source": [
    "def mult_vector_escalar(alpha,v):\n",
    "    return [alpha*v[i] for i in range(len(v))]\n",
    "def addn(v,w):\n",
    "    return[v[i]+w[i] for i in range(len(v))]"
   ]
  },
  {
   "cell_type": "code",
   "execution_count": 33,
   "metadata": {},
   "outputs": [
    {
     "name": "stdout",
     "output_type": "stream",
     "text": [
      "Para el escalar: 0.00 el vector resultante es: [3. 4.]\n",
      "Para el escalar: 0.01 el vector resultante es: [3.01 4.02]\n",
      "Para el escalar: 0.02 el vector resultante es: [3.02 4.04]\n",
      "Para el escalar: 0.03 el vector resultante es: [3.03 4.06]\n",
      "Para el escalar: 0.04 el vector resultante es: [3.04 4.08]\n",
      "Para el escalar: 0.05 el vector resultante es: [3.05 4.1 ]\n",
      "Para el escalar: 0.06 el vector resultante es: [3.06 4.12]\n",
      "Para el escalar: 0.07 el vector resultante es: [3.07 4.14]\n",
      "Para el escalar: 0.08 el vector resultante es: [3.08 4.16]\n",
      "Para el escalar: 0.09 el vector resultante es: [3.09 4.18]\n",
      "Para el escalar: 0.10 el vector resultante es: [3.1 4.2]\n",
      "Para el escalar: 0.11 el vector resultante es: [3.11 4.22]\n",
      "Para el escalar: 0.12 el vector resultante es: [3.12 4.24]\n",
      "Para el escalar: 0.13 el vector resultante es: [3.13 4.26]\n",
      "Para el escalar: 0.14 el vector resultante es: [3.14 4.28]\n",
      "Para el escalar: 0.15 el vector resultante es: [3.15 4.3 ]\n",
      "Para el escalar: 0.16 el vector resultante es: [3.16 4.32]\n",
      "Para el escalar: 0.17 el vector resultante es: [3.17 4.34]\n",
      "Para el escalar: 0.18 el vector resultante es: [3.18 4.36]\n",
      "Para el escalar: 0.19 el vector resultante es: [3.19 4.38]\n",
      "Para el escalar: 0.20 el vector resultante es: [3.2 4.4]\n",
      "Para el escalar: 0.21 el vector resultante es: [3.21 4.42]\n",
      "Para el escalar: 0.22 el vector resultante es: [3.22 4.44]\n",
      "Para el escalar: 0.23 el vector resultante es: [3.23 4.46]\n",
      "Para el escalar: 0.24 el vector resultante es: [3.24 4.48]\n",
      "Para el escalar: 0.25 el vector resultante es: [3.25 4.5 ]\n",
      "Para el escalar: 0.26 el vector resultante es: [3.26 4.52]\n",
      "Para el escalar: 0.27 el vector resultante es: [3.27 4.54]\n",
      "Para el escalar: 0.28 el vector resultante es: [3.28 4.56]\n",
      "Para el escalar: 0.29 el vector resultante es: [3.29 4.58]\n",
      "Para el escalar: 0.30 el vector resultante es: [3.3 4.6]\n",
      "Para el escalar: 0.31 el vector resultante es: [3.31 4.62]\n",
      "Para el escalar: 0.32 el vector resultante es: [3.32 4.64]\n",
      "Para el escalar: 0.33 el vector resultante es: [3.33 4.66]\n",
      "Para el escalar: 0.34 el vector resultante es: [3.34 4.68]\n",
      "Para el escalar: 0.35 el vector resultante es: [3.35 4.7 ]\n",
      "Para el escalar: 0.36 el vector resultante es: [3.36 4.72]\n",
      "Para el escalar: 0.37 el vector resultante es: [3.37 4.74]\n",
      "Para el escalar: 0.38 el vector resultante es: [3.38 4.76]\n",
      "Para el escalar: 0.39 el vector resultante es: [3.39 4.78]\n",
      "Para el escalar: 0.40 el vector resultante es: [3.4 4.8]\n",
      "Para el escalar: 0.41 el vector resultante es: [3.41 4.82]\n",
      "Para el escalar: 0.42 el vector resultante es: [3.42 4.84]\n",
      "Para el escalar: 0.43 el vector resultante es: [3.43 4.86]\n",
      "Para el escalar: 0.44 el vector resultante es: [3.44 4.88]\n",
      "Para el escalar: 0.45 el vector resultante es: [3.45 4.9 ]\n",
      "Para el escalar: 0.46 el vector resultante es: [3.46 4.92]\n",
      "Para el escalar: 0.47 el vector resultante es: [3.47 4.94]\n",
      "Para el escalar: 0.48 el vector resultante es: [3.48 4.96]\n",
      "Para el escalar: 0.49 el vector resultante es: [3.49 4.98]\n",
      "Para el escalar: 0.50 el vector resultante es: [3.5 5. ]\n",
      "Para el escalar: 0.51 el vector resultante es: [3.51 5.02]\n",
      "Para el escalar: 0.52 el vector resultante es: [3.52 5.04]\n",
      "Para el escalar: 0.53 el vector resultante es: [3.53 5.06]\n",
      "Para el escalar: 0.54 el vector resultante es: [3.54 5.08]\n",
      "Para el escalar: 0.55 el vector resultante es: [3.55 5.1 ]\n",
      "Para el escalar: 0.56 el vector resultante es: [3.56 5.12]\n",
      "Para el escalar: 0.57 el vector resultante es: [3.57 5.14]\n",
      "Para el escalar: 0.58 el vector resultante es: [3.58 5.16]\n",
      "Para el escalar: 0.59 el vector resultante es: [3.59 5.18]\n",
      "Para el escalar: 0.60 el vector resultante es: [3.6 5.2]\n",
      "Para el escalar: 0.61 el vector resultante es: [3.61 5.22]\n",
      "Para el escalar: 0.62 el vector resultante es: [3.62 5.24]\n",
      "Para el escalar: 0.63 el vector resultante es: [3.63 5.26]\n",
      "Para el escalar: 0.64 el vector resultante es: [3.64 5.28]\n",
      "Para el escalar: 0.65 el vector resultante es: [3.65 5.3 ]\n",
      "Para el escalar: 0.66 el vector resultante es: [3.66 5.32]\n",
      "Para el escalar: 0.67 el vector resultante es: [3.67 5.34]\n",
      "Para el escalar: 0.68 el vector resultante es: [3.68 5.36]\n",
      "Para el escalar: 0.69 el vector resultante es: [3.69 5.38]\n",
      "Para el escalar: 0.70 el vector resultante es: [3.7 5.4]\n",
      "Para el escalar: 0.71 el vector resultante es: [3.71 5.42]\n",
      "Para el escalar: 0.72 el vector resultante es: [3.72 5.44]\n",
      "Para el escalar: 0.73 el vector resultante es: [3.73 5.46]\n",
      "Para el escalar: 0.74 el vector resultante es: [3.74 5.48]\n",
      "Para el escalar: 0.75 el vector resultante es: [3.75 5.5 ]\n",
      "Para el escalar: 0.76 el vector resultante es: [3.76 5.52]\n",
      "Para el escalar: 0.77 el vector resultante es: [3.77 5.54]\n",
      "Para el escalar: 0.78 el vector resultante es: [3.78 5.56]\n",
      "Para el escalar: 0.79 el vector resultante es: [3.79 5.58]\n",
      "Para el escalar: 0.80 el vector resultante es: [3.8 5.6]\n",
      "Para el escalar: 0.81 el vector resultante es: [3.81 5.62]\n",
      "Para el escalar: 0.82 el vector resultante es: [3.82 5.64]\n",
      "Para el escalar: 0.83 el vector resultante es: [3.83 5.66]\n",
      "Para el escalar: 0.84 el vector resultante es: [3.84 5.68]\n",
      "Para el escalar: 0.85 el vector resultante es: [3.85 5.7 ]\n",
      "Para el escalar: 0.86 el vector resultante es: [3.86 5.72]\n",
      "Para el escalar: 0.87 el vector resultante es: [3.87 5.74]\n",
      "Para el escalar: 0.88 el vector resultante es: [3.88 5.76]\n",
      "Para el escalar: 0.89 el vector resultante es: [3.89 5.78]\n",
      "Para el escalar: 0.90 el vector resultante es: [3.9 5.8]\n",
      "Para el escalar: 0.91 el vector resultante es: [3.91 5.82]\n",
      "Para el escalar: 0.92 el vector resultante es: [3.92 5.84]\n",
      "Para el escalar: 0.93 el vector resultante es: [3.93 5.86]\n",
      "Para el escalar: 0.94 el vector resultante es: [3.94 5.88]\n",
      "Para el escalar: 0.95 el vector resultante es: [3.95 5.9 ]\n",
      "Para el escalar: 0.96 el vector resultante es: [3.96 5.92]\n",
      "Para el escalar: 0.97 el vector resultante es: [3.97 5.94]\n",
      "Para el escalar: 0.98 el vector resultante es: [3.98 5.96]\n",
      "Para el escalar: 0.99 el vector resultante es: [3.99 5.98]\n",
      "Para el escalar: 1.00 el vector resultante es: [4. 6.]\n"
     ]
    }
   ],
   "source": [
    "import numpy as np\n",
    "\n",
    "for i in np.arange(0,1.01,0.01):\n",
    "    \n",
    "    \n",
    "    mult= np.round(addn(mult_vector_escalar(i,[1,2]),[3,4]),decimals=2)\n",
    "    print('Para el escalar: {:.2f} el vector resultante es: {}'.format(i,mult))\n",
    "    \n"
   ]
  },
  {
   "cell_type": "markdown",
   "metadata": {},
   "source": [
    "## 3. El secreto perfecto\n",
    "\n",
    "Representa la encriptación de la adicción de un n-vector a un n-vector de GF(2)  \n",
    "\n",
    "<img src=\"Images/mortadelo-filemon.jpg\" style=\"width: 300px;\"/>\n",
    "\n",
    "Mortadelo y Filemón usan como clave el siguiente vector:  \n",
    "**k**=[0,1,0,0,1,0,1,0,1,0] \n",
    "\n",
    "Mortadelo quiere enviarle a Filemón el siguiente mensaje:  \n",
    "**p**=[0,0,0,1,1,1,0,1,0,1] \n",
    "\n",
    "Mortadelo encripta su mensaje añadiendo k: \n",
    "**c**=**p**+**k**=[0,0,0,1,1,1,0,1,0,1]+[0,1,0,0,1,0,1,0,1,0]=[0,1,0,1,0,1,1,1,1,1] \n",
    "\n",
    "Cuando Filemón recibe el mensaje, lo desencripta añadiendo **k** a lo que ha recibido \n",
    "**p**=**c**+**k**=[0,1,0,1,0,1,1,1,1,1]+[0,1,0,0,1,0,1,0,1,0]=[0,0,0,1,1,1,0,1,0,1]    \n",
    "\n",
    "que es el mensaje original.\n",
    "\n",
    "La idea es crear un procedimiento para que Filemón:\n",
    "* No tenga que hacer este proceso manualmente cada vez que Mortadelo le envíe un mensaje encriptado para descifrarlo\n",
    "* Si deciden cambiar la clave, que el procedimiento cambie mínimamente\n",
    "\n",
    "  \n"
   ]
  },
  {
   "cell_type": "code",
   "execution_count": 42,
   "metadata": {},
   "outputs": [
    {
     "name": "stdout",
     "output_type": "stream",
     "text": [
      "El mensaje de Mortadelo es [0, 1, 0, 0, 1, 0, 1, 0, 1, 0]\n",
      "El mensaje encriptado de Mortadelo es [0, 1, 0, 1, 0, 1, 1, 1, 1, 1]\n",
      "El mensaje desencriptado de Filemón es [0, 1, 0, 0, 1, 0, 1, 0, 1, 0]\n"
     ]
    }
   ],
   "source": [
    "def addn_GF2(v,w):\n",
    "    return[(v[i]+w[i])%2 for i in range(len(v))]\n",
    "\n",
    "#Definimos el mensaje\n",
    "k1=[0,1,0,0,1,0,1,0,1,0]\n",
    "print(\"El mensaje de Mortadelo es {}\".format(k))\n",
    "\n",
    "# Definimos la clave\n",
    "vC= [0,0,0,1,1,1,0,1,0,1]\n",
    "\n",
    "enc=addn_GF2(k1,vC)\n",
    "print(\"El mensaje encriptado de Mortadelo es {}\".format(enc))\n",
    "men=addn_GF2(enc,vC)\n",
    "print(\"El mensaje desencriptado de Filemón es {}\".format(men))"
   ]
  },
  {
   "cell_type": "code",
   "execution_count": 43,
   "metadata": {},
   "outputs": [
    {
     "name": "stdout",
     "output_type": "stream",
     "text": [
      "El mensaje de Mortadelo es [0, 1, 0, 0, 1, 0, 1, 0, 1, 0]\n",
      "El mensaje encriptado de Mortadelo es [0, 0, 0, 1, 0, 0, 1, 1, 1, 0]\n",
      "El mensaje desencriptado de Filemón es [0, 1, 0, 0, 1, 0, 1, 0, 1, 0]\n"
     ]
    }
   ],
   "source": [
    "import random\n",
    "def addn_GF2(v,w):\n",
    "    return[(v[i]+w[i])%2 for i in range(len(v))]\n",
    "\n",
    "#Definimos el mensaje\n",
    "k=[0,1,0,0,1,0,1,0,1,0]\n",
    "print(\"El mensaje de Mortadelo es {}\".format(k))\n",
    "\n",
    "# Calculamos el vector aleatorio vA\n",
    "vA = [ ]\n",
    "for i in range (10):\n",
    "    vA.append(random.randint(1, 100)%2)\n",
    "\n",
    "encriptado=addn_GF2(k,vA)\n",
    "print(\"El mensaje encriptado de Mortadelo es {}\".format(encriptado))\n",
    "mensaje=addn_GF2(encriptado,vA)\n",
    "print(\"El mensaje desencriptado de Filemón es {}\".format(mensaje))\n"
   ]
  },
  {
   "cell_type": "markdown",
   "metadata": {},
   "source": [
    "## 4. ¿Cuánto cuesta hacer una cerveza?\n",
    "\n",
    "<img src=\"Images/cerveza.jpg\" style=\"width: 300px;\"/>\n",
    "\n",
    "Supongamos que D es el conjunto de algunos ingredientes de la cerveza: \n",
    "> D={lúpulo, malta, agua, levadura} \n",
    "\n",
    "Por otro lado tenemos el vector coste:\n",
    "> coste={lúpulo: 2,5€, malta: 1.5€, agua: 0.006€, levadura: 0,45€}  \n",
    "\n",
    "Por último tenemos el vector cantidad con lo necesario para hacer una cerveza:\n",
    "> cantidad={lúpulo: 6u, malta: 14u, agua: 7u, levadura: 11u} \n",
    "\n",
    "¿Cuánto cuesta hacer una cerveza?"
   ]
  },
  {
   "cell_type": "code",
   "execution_count": 44,
   "metadata": {},
   "outputs": [],
   "source": [
    "##Dia 3\n",
    "def producto_escalar(u,v):\n",
    "    return sum(u[i]*v[i] for i in range(len(u)))"
   ]
  },
  {
   "cell_type": "code",
   "execution_count": 50,
   "metadata": {},
   "outputs": [
    {
     "name": "stdout",
     "output_type": "stream",
     "text": [
      "Hacer una cerveza cuesta 40.99€\n"
     ]
    }
   ],
   "source": [
    "coste=[2.5,1.5,0.006,0.45]\n",
    "cantidad=[6,14,7,11]\n",
    "print(\"Hacer una cerveza cuesta {:.2f}€\".format(producto_escalar(coste,cantidad)))"
   ]
  },
  {
   "cell_type": "markdown",
   "metadata": {},
   "source": [
    "## 5. La carrera de caballos\n",
    "\n",
    "Tres caballos A, B y C compiten en una carrera.  \n",
    "Las apuestas para dar como vencedor a cada uno de ellos son de 4 a 1 para A, 3 a 1 para B y 2 a 1 para C, tomando las unidades siempre en euros.  \n",
    "¿Cuánto debo apostar por cada caballo para asegurarme recibir 13 euros en toal, sin importar qué csaballo gane la carrera?"
   ]
  },
  {
   "cell_type": "markdown",
   "metadata": {},
   "source": [
    "Sean x,y,z el dinero apostado por los caballos A, B y C respectivamente.\n",
    "El objetivo del problema escalcular la cantidad que debe apostarse por cada caballo de forma que la suma del dinero recibido y perdido en ñas apuestas sea siempre igual a 13€.  \n",
    "Así, podemos plantear un sistema de tres ecuaciones con tres incógnitas, en el que igualaremos matemáticamente la cantidad percibida por la victoria de los caballos A, B, C y, al mismo tiempo, señalaremos que esta cantidad corresponde a 13€.  \n",
    "\n",
    "> 4x-y-z=3y-x-z  \n",
    "> 3y-x-z=2z-x-y  \n",
    "> 2z-x-y=13\n"
   ]
  },
  {
   "cell_type": "code",
   "execution_count": 65,
   "metadata": {},
   "outputs": [
    {
     "name": "stdout",
     "output_type": "stream",
     "text": [
      "¿M y M_amp tienen el mismo rango? True\n",
      "¿El rango de M es igual a 3? True\n",
      "El rango de M es igual a 3\n",
      "El rango de M_amp es igual a 3\n",
      "Por tanto el sistema es compatible determinado, es decir tiene una única solución.\n"
     ]
    }
   ],
   "source": [
    "M = np.array([\n",
    "    [5, -4, 0],\n",
    "    [0, 4, -3],\n",
    "    [-1, -1, 2]\n",
    "])\n",
    "M_amp = np.array([\n",
    "    [5,-4,0,0],\n",
    "    [0,4,-3,0],\n",
    "    [-1,-1,2,13]\n",
    "])\n",
    "\n",
    "B=np.matrix([\n",
    "    [0],[0],[13]\n",
    "])\n",
    "\n",
    "print(\"¿M y M_amp tienen el mismo rango? {}\".format(np.linalg.matrix_rank(M) == np.linalg.matrix_rank(M_amp)))\n",
    "print(\"¿El rango de M es igual a 3? {}\".format(np.linalg.matrix_rank(M) == 3))\n",
    "print(\"El rango de M es igual a {}\".format(np.linalg.matrix_rank(M)))\n",
    "print(\"El rango de M_amp es igual a {}\".format(np.linalg.matrix_rank(M_amp)))\n",
    "print(\"Por tanto el sistema es compatible determinado, es decir tiene una única solución.\")\n"
   ]
  },
  {
   "cell_type": "code",
   "execution_count": 64,
   "metadata": {},
   "outputs": [
    {
     "data": {
      "text/plain": [
       "matrix([[12.],\n",
       "        [15.],\n",
       "        [20.]])"
      ]
     },
     "execution_count": 64,
     "metadata": {},
     "output_type": "execute_result"
    }
   ],
   "source": [
    "#Calculamos por el método de la inversa\n",
    "inv_M=np.linalg.inv(M)\n",
    "inv_M*B\n"
   ]
  },
  {
   "cell_type": "code",
   "execution_count": null,
   "metadata": {},
   "outputs": [],
   "source": []
  },
  {
   "cell_type": "code",
   "execution_count": 66,
   "metadata": {},
   "outputs": [
    {
     "data": {
      "text/plain": [
       "{x: 12, y: 15, z: 20}"
      ]
     },
     "execution_count": 66,
     "metadata": {},
     "output_type": "execute_result"
    }
   ],
   "source": [
    "# Utilizando el Método \"solve_linear_system\" de Sympy\n",
    "from sympy import Matrix, solve_linear_system\n",
    "from sympy.abc import x,y,z \n",
    "\n",
    "A=Matrix([\n",
    "    [5,-4,0,0],\n",
    "    [0,4,-3,0],\n",
    "    [-1,-1,2,13]\n",
    "   ])\n",
    "\n",
    "solve_linear_system(A,x,y,z)"
   ]
  },
  {
   "cell_type": "markdown",
   "metadata": {},
   "source": [
    "## 6. Dimensión de matrices\n",
    "\n",
    "Sea la matriz $\n",
    "  M=\n",
    "  \\left[ {\\begin{array}{cc}\n",
    "   1 & 0  & 0 & 5 \\\\\n",
    "   0 & 2  & 0 & 7 \\\\\n",
    "   0 & 0  & 3 & 9 \\\\\n",
    "  \\end{array} } \\right]\n",
    "$. Calcular el rango por filas y por columnas usando Python."
   ]
  },
  {
   "cell_type": "code",
   "execution_count": 33,
   "metadata": {},
   "outputs": [
    {
     "data": {
      "text/plain": [
       "3"
      ]
     },
     "execution_count": 33,
     "metadata": {},
     "output_type": "execute_result"
    }
   ],
   "source": [
    "#Ranfo <=3\n",
    "import numpy as np\n",
    "M=np.matrix([\n",
    "    [1,0,0,5],\n",
    "    [0,2,0,7],\n",
    "    [0,0,3,9]\n",
    "])\n",
    "rangoM=np.linalg.matrix_rank(M)\n",
    "rangoM"
   ]
  },
  {
   "cell_type": "code",
   "execution_count": 68,
   "metadata": {},
   "outputs": [
    {
     "data": {
      "text/plain": [
       "3"
      ]
     },
     "execution_count": 68,
     "metadata": {},
     "output_type": "execute_result"
    }
   ],
   "source": [
    "import numpy as np\n",
    "C=np.matrix([\n",
    "    [1,0,0],\n",
    "    [0,2,0],\n",
    "    [0,0,3],\n",
    "    [5,7,9]\n",
    "])\n",
    "rangoC=np.linalg.matrix_rank(C)\n",
    "rangoC"
   ]
  },
  {
   "cell_type": "markdown",
   "metadata": {},
   "source": [
    "## 7. Bosque de extensión mínima\n",
    "\n",
    "<img src=\"Images/bosque.png\" style=\"width: 800px;\"/>\n",
    "\n",
    "En clase hemos hecho el caso del grafo de la derecha. Le toca el turno al de la izquierda.\n",
    "Supongamos que queremos diseñar la red de internet para el otro campus universitario.  \n",
    "La red debe lograr la misma conectividad que el grafo de entrada.  \n",
    "Una arista representa un posible cable.  \n",
    "El peso de la arista es el coste de instalar el cable.  \n",
    "Nuestro objetivo es minimizar el coste total, usando el algoritmo Grow y el algoritmo Shrink.\n",
    "Lo único que en este caso se pide crear un procedimiento para el algoritmo Grow y otro para el Shrink que lo hagan automáticamente una vez les metamos como parámetros las aristas y sus pesos"
   ]
  },
  {
   "cell_type": "code",
   "execution_count": 113,
   "metadata": {},
   "outputs": [],
   "source": [
    "grafo = [({\"Bio-med\",\"Pembroke Campus\"},2),\n",
    "         ({\"Pembroke Campus\",\"Athletic Complex\"},7),\n",
    "         ({\"Bio-med\",\"Athletic Complex\"},9)\n",
    "        ]\n"
   ]
  },
  {
   "cell_type": "code",
   "execution_count": 118,
   "metadata": {},
   "outputs": [],
   "source": [
    "\n",
    "def Fn_Get_PesoMax(grafo):\n",
    "    # Inicializo la variable peso a 0\n",
    "    peso = 0\n",
    "    for v in grafo:\n",
    "        if peso<v[1]:\n",
    "            peso = v[1]\n",
    "    return peso\n",
    "\n",
    "def Fn_Get_PesoMin(grafo):\n",
    "    # inicializamos el peso con el peso máximo de arista que encuentro\n",
    "    peso=Fn_Get_PesoMax(grafo)\n",
    "    # Para cada arista en el grafo...\n",
    "    for v in grafo:\n",
    "        if peso>v[1]: #v[1] dice que coja para cada elemento su valor de la posición 1 (en Python), e.d, los pesos\n",
    "            peso=v[1] \n",
    "    return peso\n",
    "\n",
    "def Fn_Get_Nodos(grafo):\n",
    "    # Inicializamos el conjunto \"nodos\" como un conjunto vacío\n",
    "    nodos = set()\n",
    "    # Para cada elemento del grafo...\n",
    "    for i in grafo:\n",
    "        # Para cada arista (primera posición) de esos elementos del grafo...\n",
    "        for e in i[0]:\n",
    "            # Lo añadimos al conjunto nodos.\n",
    "            # Al ser nodos un conjunto, si un elemento lo añado dos veces, sólo se añadirá la primera vez\n",
    "            nodos.add(e)    \n",
    "            \n",
    "    return nodos\n",
    "\n",
    "def Fn_Get_Vertices(grafo, nodoInicial, listaDeNodos):\n",
    "    # Declaramos la lista l vacía\n",
    "    l = []\n",
    "    # Para todos los elementos del grafo...\n",
    "    for i in grafo:\n",
    "        # creamos el conjunto vertices con los dos nodos de cada una de las aristas (una cada vez)\n",
    "        vertices = i[0].copy()\n",
    "        # Uno de estos vértices lo metemos en unNodo y lo eliminamos del conjunto vertices\n",
    "        unNodo = vertices.pop()\n",
    "        # Metemos el otro vertice en otroNodo \n",
    "        otroNodo = vertices.pop()\n",
    "        # Si uno de estos dos vertices es el nodo contra el que buscamos y el otro está en la listaDeNodos\n",
    "        # entonces añadimos este nuevo vertice a la lista l\n",
    "        if (unNodo == nodoInicial and otroNodo in listaDeNodos) or (otroNodo \n",
    "                                                                    == nodoInicial and unNodo in listaDeNodos):\n",
    "            l.append(i)\n",
    "    return l\n",
    "\n"
   ]
  },
  {
   "cell_type": "code",
   "execution_count": 119,
   "metadata": {},
   "outputs": [],
   "source": [
    "def Algorithm_Grow(grafo):\n",
    "    bosque = []\n",
    "    gr = grafo.copy()\n",
    "    nodosDeseados = Fn_Get_Nodos(gr)\n",
    "    \n",
    "    minimo = Fn_Get_PesoMin(gr)\n",
    "    for i in range(0,len(gr)):\n",
    "        if gr[i][1] == minimo:\n",
    "            nuevoVertice = gr.pop(i)\n",
    "            break\n",
    "    bosque.append(nuevoVertice)\n",
    "    \n",
    "    nodosEnBosque=Fn_Get_Nodos(bosque)\n",
    "    \n",
    "    nodosQueQuedan = nodosDeseados - nodosEnBosque\n",
    "    \n",
    "    while nodosQueQuedan:\n",
    "        for nodo in nodosQueQuedan:\n",
    "            for v in gr:\n",
    "                if nodo in v[0]:\n",
    "                    vertices = v[0].copy()\n",
    "                    unNodo = vertices.pop()\n",
    "                    otroNodo = vertices.pop()\n",
    "                    if nodo == otroNodo:\n",
    "                        nodoBuscado = otroNodo\n",
    "                    else:\n",
    "                        nodoBuscado = unNodo\n",
    "                    if nodoBuscado in nodosQueQuedan:\n",
    "                        maximo=Fn_Get_PesoMax(gr)\n",
    "                        if v[1] <= maximo:\n",
    "                            maximo = v[1]\n",
    "                            nodoNuevo = nodoBuscado\n",
    "                            \n",
    "        listaVertices = Fn_Get_Vertices(gr, nodoNuevo, nodosEnBosque)\n",
    "\n",
    "        minimo = Fn_Get_PesoMin(listaVertices)\n",
    "        for i in range(0,len(listaVertices)):\n",
    "            if listaVertices[i][1] == minimo: # Miro los pesos\n",
    "                nuevoVertice = listaVertices.pop(i)\n",
    "                break\n",
    "        bosque.append(nuevoVertice)\n",
    "        \n",
    "        # Actualizo nodosEnBosque y nodosQueQuedan para la siguiente iteración del while\n",
    "        # El while se iría repitiendo siempre y cuando queden elementos en nodosQueQuedan\n",
    "        nodosEnBosque=Fn_Get_Nodos(bosque)\n",
    "        nodosQueQuedan = nodosDeseados - nodosEnBosque\n",
    "        \n",
    "    return bosque"
   ]
  },
  {
   "cell_type": "code",
   "execution_count": 124,
   "metadata": {},
   "outputs": [
    {
     "data": {
      "text/plain": [
       "[({'Bio-med', 'Pembroke Campus'}, 2),\n",
       " ({'Athletic Complex', 'Pembroke Campus'}, 7)]"
      ]
     },
     "execution_count": 124,
     "metadata": {},
     "output_type": "execute_result"
    }
   ],
   "source": [
    "Algorithm_Grow(grafo)"
   ]
  },
  {
   "cell_type": "code",
   "execution_count": 125,
   "metadata": {},
   "outputs": [],
   "source": [
    "def Fn_Get_Pesos(grafo):\n",
    "    # Creamos la lista vacía\n",
    "    l = []\n",
    "    # Para los elementos del grafo...\n",
    "    for i in grafo:\n",
    "        # ...Cogemos sus pesos y los añadimos a la lista l\n",
    "        l.append(i[1])\n",
    "    # Ordenamos la lista l de modo decreciente\n",
    "    l.sort(reverse=True)\n",
    "    return l\n",
    "\n",
    "def Fn_Check_Camino(grafoOriginal,nodoA,nodoB):\n",
    "    grafo=grafoOriginal.copy()\n",
    "    \n",
    "    for v in grafo:\n",
    "        if (nodoA in v[0]) and (nodoB in v[0]):\n",
    "            return True\n",
    "    nodosParaBuscar=Fn_Get_NodConect (grafo,nodoA)\n",
    "    # Quitar el nodoA\n",
    "    nuevoGrafo=Fn_Eliminar_Nodo(grafo,nodoA)\n",
    "    # Ahora bien, nos preguntamos:\n",
    "    # ¿Para los vértices unidos a nodoA (nodosParaBuscar) dejando de lado el nodoA (nuevoGrafo)\n",
    "    # existe un camino directo hasta nodoB?\n",
    "    for e in nodosParaBuscar:\n",
    "        if Fn_Check_Camino(nuevoGrafo,e,nodoB):\n",
    "            return True  \n",
    "        \n",
    "def Fn_Get_NodConect (grafoOriginal,nodo):\n",
    "    # inicializamos el conjunto nodos a vacío\n",
    "    nodos=set()\n",
    "    #Recorremos los elementos de grafoOriginal\n",
    "    for v in grafoOriginal:\n",
    "        # Buscamos si el nodo que hemos metido como parámetro pertenece a ese elemento del grafoOriginal\n",
    "        if nodo in v[0]:\n",
    "            # Si está lo añadimos a nodos\n",
    "            nodos=nodos | (v[0])  # La | es unión de conjuntos\n",
    "        # Una vez añadido, como el elemento que añadimos tiene también el nodo que estamos comprobando\n",
    "        # y éste no le queremos en \"nodos\", lo eliminamos del conjunto\n",
    "        nodos= nodos - {nodo}\n",
    "    return nodos\n",
    "\n",
    "def Fn_Eliminar_Nodo (grafo,nodo):\n",
    "    # Creamos una copia del grafo\n",
    "    grafoCopia=grafo.copy()\n",
    "    # Recorremos los elementos del grafo\n",
    "    for v in grafo:\n",
    "        # Miramos si el nodo está en ese elemento del grafo\n",
    "        if nodo in v[0]:\n",
    "            # Si está, eliminamos ese elemento del grafo\n",
    "            grafoCopia.remove(v)\n",
    "    return grafoCopia"
   ]
  },
  {
   "cell_type": "code",
   "execution_count": 126,
   "metadata": {},
   "outputs": [],
   "source": [
    "def Algorithm_Shrink(grafo):\n",
    "    bosque = grafo.copy()\n",
    "    \n",
    "    pesos = Fn_Get_Pesos(grafo)\n",
    "    # Necesitamos antes de meternos en el while el listado de vértices del grafo original\n",
    "    nodosTotales = Fn_Get_Nodos(grafo)\n",
    "    \n",
    "    while pesos:\n",
    "        pesoBuscado = pesos[0] \n",
    "        for i in range(0, len(bosque)): \n",
    "            if bosque[i][1] == pesoBuscado:\n",
    "                nuevoVertice = bosque.pop(i)\n",
    "                pesos.remove(pesoBuscado)\n",
    "                break\n",
    "        # Queremos comprobar que \"bosque\", que ahora tiene una arista menos\n",
    "        # , sigue teniendo un camino entre cada par de nodos\n",
    "        # Vamos a recorrer cada uno de los vértices que teníamos guardados del bosque original\n",
    "        for n1 in nodosTotales:\n",
    "            # Incluimos este nodo en un conjunto nuevo, el conjunto esteNodo\n",
    "            esteNodo = set()\n",
    "            esteNodo.add(n1)\n",
    "            # el resto de nodos los meto en otro conjunto, el conjunto otrosNodos\n",
    "            otrosNodos = nodosTotales - esteNodo\n",
    "            # Vamos a comprobar para cada vértices de otrosNodos que existe un camino a \"esteNodo\"\n",
    "            # con el bosque tal y como está actualmente\n",
    "            for n2 in otrosNodos:\n",
    "                conectados=Fn_Check_Camino(bosque, n1, n2)\n",
    "                # Si encuentro un camino me salgo del bucle ya que ya habría acabado mi comprobación\n",
    "                if conectados is True:\n",
    "                    break\n",
    "        \n",
    "        # Ahora bien, si en esta iteración, el bosque ha perdido un vértice, es decir, que el conjunto\n",
    "        # Fn_Get_Nodos(bosque) es más pequeño que nodosTotales, entonces el vértice nuevoVertice que había quitado\n",
    "        # en esta iteración, tengo que volver a añadirlo\n",
    "        if Fn_Get_Nodos(bosque) != nodosTotales:\n",
    "            bosque.append(nuevoVertice)\n",
    "        # También, si al hacer la comprobación, me hubiese salido que no están conectados, también en este caso\n",
    "        # tengo que volver a añadir el vértice quitado\n",
    "        elif conectados is False:\n",
    "            bosque.append(nuevoVertice)\n",
    "            \n",
    "    return(bosque)"
   ]
  },
  {
   "cell_type": "code",
   "execution_count": 127,
   "metadata": {},
   "outputs": [
    {
     "data": {
      "text/plain": [
       "[({'Athletic Complex', 'Pembroke Campus'}, 7),\n",
       " ({'Bio-med', 'Pembroke Campus'}, 2)]"
      ]
     },
     "execution_count": 127,
     "metadata": {},
     "output_type": "execute_result"
    }
   ],
   "source": [
    "Algorithm_Shrink(grafo)"
   ]
  },
  {
   "cell_type": "markdown",
   "metadata": {},
   "source": [
    "## 8. El dígito móvil\n",
    "\n",
    "<img src=\"Images/imagenx2.png\" style=\"width: 500px;\"/>\n",
    "\n",
    "Hallar un número tal que, multiplicado por 3 y dividido entre 2, dé el mismo resultado que si moviéramos el primer dígito del número, el 3, desde el principio hasta el final de la fila de dígitos\n",
    "\n",
    "PISTA: Los únicos números que, al ser multiplicados por determinadas cifras, producen otros números cuyos dígitos siguen la misma secuencia que el número original aunque comenzando por otro de sus dígitos, son los períodos de los números decimales periódicos. Estos números se dicen **cíclicos**.  \n",
    "Nosotros queremos buscar un número de este tipo\n",
    "\n",
    "PISTA: No hay que resolverlo con Python"
   ]
  },
  {
   "cell_type": "code",
   "execution_count": 167,
   "metadata": {},
   "outputs": [
    {
     "data": {
      "text/plain": [
       "5294117647058823.0"
      ]
     },
     "execution_count": 167,
     "metadata": {},
     "output_type": "execute_result"
    }
   ],
   "source": [
    "##Diviendo 1/17 obtenemos los siguientes decimales 0588235294117647. Multiplicando por 60 que es el resto de cuando obtenemos el 3 nos queda:\n",
    "\n",
    "3529411764705882*(3/2)"
   ]
  },
  {
   "cell_type": "markdown",
   "metadata": {},
   "source": []
  },
  {
   "cell_type": "markdown",
   "metadata": {},
   "source": [
    "## 9. Agujas superpuestas\n",
    "\n",
    "<img src=\"Images/reloj-movimiento--478x578.jpg\" style=\"width: 250px;\"/>\n",
    "\n",
    "El horario y el minutero de un reloj se juntan exactamente cada 65 minutos.  \n",
    "Calcular si el reloj se adelanta o se atrasa, y cuánto por hora.  \n",
    "\n",
    "PISTA: Suponer que las agujas del reloj empiezan en las 12 en punto.\n",
    "\n",
    "PISTA: No hace falta resolverlo con Python"
   ]
  },
  {
   "cell_type": "markdown",
   "metadata": {},
   "source": []
  },
  {
   "cell_type": "markdown",
   "metadata": {},
   "source": [
    "## 10. Cuadrados perfectos\n",
    "\n",
    "<img src=\"Images/cuadrados-perfectos.jpg\" style=\"width: 500px;\"/>\n",
    "\n",
    "Averiguar el número entero positivo que, sumado tanto a 100 como a 164, propociona sendos cuadrados perfectos.\n",
    "\n",
    "PISTA: No hace falta resolverlo con Python"
   ]
  },
  {
   "cell_type": "code",
   "execution_count": 110,
   "metadata": {},
   "outputs": [
    {
     "name": "stdout",
     "output_type": "stream",
     "text": [
      "Numero 125 resultado a: 15.0 y resultado b 17.0\n"
     ]
    }
   ],
   "source": [
    "for i in range(0,1000):\n",
    "    a=m.sqrt(100+i)\n",
    "    b=m.sqrt(164+i)\n",
    "    \n",
    "    parte_decimala, parte_enteraa = m.modf(a)\n",
    "    parte_decimalb, parte_enterab = m.modf(b)\n",
    "    if parte_decimala == 0 and parte_decimalb == 0:\n",
    "        print('Numero {} resultado a: {} y resultado b {}'.format(i,a,b))\n",
    "    \n",
    "    "
   ]
  },
  {
   "cell_type": "markdown",
   "metadata": {},
   "source": []
  },
  {
   "cell_type": "markdown",
   "metadata": {},
   "source": [
    "## 11. Días de vacaciones\n",
    "\n",
    "<img src=\"Images/vacaciones.jpg\" style=\"width: 500px;\"/>\n",
    "\n",
    "Durante mis vacaciones llovió 9 días, y hubo 10 mañanas y 9 tardes soleadas. Cuando llovió por la mañana, la tarde fue soleada.\n",
    "¿Cuántos días duraron mis vacaciones?"
   ]
  },
  {
   "cell_type": "code",
   "execution_count": null,
   "metadata": {},
   "outputs": [],
   "source": [
    "#Sacamos las ecuaciones del sistema:\n",
    "x + y = 9\n",
    "x + 10 = y + 9\n",
    "#Sustituyendo:\n",
    "x=4\n",
    "y=5\n",
    "total=14"
   ]
  },
  {
   "cell_type": "markdown",
   "metadata": {},
   "source": []
  },
  {
   "cell_type": "markdown",
   "metadata": {},
   "source": []
  }
 ],
 "metadata": {
  "kernelspec": {
   "display_name": "Python 3",
   "language": "python",
   "name": "python3"
  },
  "language_info": {
   "codemirror_mode": {
    "name": "ipython",
    "version": 3
   },
   "file_extension": ".py",
   "mimetype": "text/x-python",
   "name": "python",
   "nbconvert_exporter": "python",
   "pygments_lexer": "ipython3",
   "version": "3.7.4"
  }
 },
 "nbformat": 4,
 "nbformat_minor": 2
}
